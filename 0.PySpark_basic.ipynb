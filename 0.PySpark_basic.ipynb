{
  "nbformat": 4,
  "nbformat_minor": 0,
  "metadata": {
    "colab": {
      "provenance": [],
      "collapsed_sections": []
    },
    "kernelspec": {
      "name": "python3",
      "display_name": "Python 3"
    },
    "language_info": {
      "name": "python"
    },
    "accelerator": "GPU"
  },
  "cells": [
    {
      "cell_type": "code",
      "execution_count": 1,
      "metadata": {
        "id": "WN2Y1T123c6W"
      },
      "outputs": [],
      "source": [
        "!apt-get install openjdk-8-jdk-headless -qq > /dev/null\n",
        "!wget -q http://archive.apache.org/dist/spark/spark-3.1.1/spark-3.1.1-bin-hadoop3.2.tgz\n",
        "!tar xf spark-3.1.1-bin-hadoop3.2.tgz\n",
        "!pip install -q findspark"
      ]
    },
    {
      "cell_type": "code",
      "source": [
        "import os\n",
        "os.environ[\"JAVA_HOME\"] = \"/usr/lib/jvm/java-8-openjdk-amd64\"\n",
        "os.environ[\"SPARK_HOME\"] = \"/content/spark-3.1.1-bin-hadoop3.2\""
      ],
      "metadata": {
        "id": "gQ_l8mJ03nA-"
      },
      "execution_count": 2,
      "outputs": []
    },
    {
      "cell_type": "code",
      "source": [
        "! pip install pyspark"
      ],
      "metadata": {
        "colab": {
          "base_uri": "https://localhost:8080/"
        },
        "id": "Wdg9v8MT8T2n",
        "outputId": "aa4d67e0-46d0-4fe5-cc7c-b4ca285ee468"
      },
      "execution_count": 3,
      "outputs": [
        {
          "output_type": "stream",
          "name": "stdout",
          "text": [
            "Looking in indexes: https://pypi.org/simple, https://us-python.pkg.dev/colab-wheels/public/simple/\n",
            "Collecting pyspark\n",
            "  Downloading pyspark-3.3.0.tar.gz (281.3 MB)\n",
            "\u001b[K     |████████████████████████████████| 281.3 MB 49 kB/s \n",
            "\u001b[?25hCollecting py4j==0.10.9.5\n",
            "  Downloading py4j-0.10.9.5-py2.py3-none-any.whl (199 kB)\n",
            "\u001b[K     |████████████████████████████████| 199 kB 59.8 MB/s \n",
            "\u001b[?25hBuilding wheels for collected packages: pyspark\n",
            "  Building wheel for pyspark (setup.py) ... \u001b[?25l\u001b[?25hdone\n",
            "  Created wheel for pyspark: filename=pyspark-3.3.0-py2.py3-none-any.whl size=281764026 sha256=b3df6e1c6df53eae691785dd7eb0e72e159a91526eedb96c24c9b491832a4f51\n",
            "  Stored in directory: /root/.cache/pip/wheels/7a/8e/1b/f73a52650d2e5f337708d9f6a1750d451a7349a867f928b885\n",
            "Successfully built pyspark\n",
            "Installing collected packages: py4j, pyspark\n",
            "Successfully installed py4j-0.10.9.5 pyspark-3.3.0\n"
          ]
        }
      ]
    },
    {
      "cell_type": "code",
      "source": [
        "import findspark\n",
        "findspark.init()\n",
        "from pyspark.sql import SparkSession\n",
        "spark = SparkSession.builder.master(\"local[*]\").getOrCreate()\n",
        "spark.conf.set(\"spark.sql.repl.eagerEval.enabled\", True) # Property used to format output tables better\n",
        "spark"
      ],
      "metadata": {
        "colab": {
          "base_uri": "https://localhost:8080/",
          "height": 219
        },
        "id": "PO4xDrBE31Fy",
        "outputId": "5219f896-cb88-40b4-ea6a-7368558e8fb1"
      },
      "execution_count": 4,
      "outputs": [
        {
          "output_type": "execute_result",
          "data": {
            "text/plain": [
              "<pyspark.sql.session.SparkSession at 0x7f8adec03290>"
            ],
            "text/html": [
              "\n",
              "            <div>\n",
              "                <p><b>SparkSession - in-memory</b></p>\n",
              "                \n",
              "        <div>\n",
              "            <p><b>SparkContext</b></p>\n",
              "\n",
              "            <p><a href=\"http://0cb46b65bd51:4040\">Spark UI</a></p>\n",
              "\n",
              "            <dl>\n",
              "              <dt>Version</dt>\n",
              "                <dd><code>v3.1.1</code></dd>\n",
              "              <dt>Master</dt>\n",
              "                <dd><code>local[*]</code></dd>\n",
              "              <dt>AppName</dt>\n",
              "                <dd><code>pyspark-shell</code></dd>\n",
              "            </dl>\n",
              "        </div>\n",
              "        \n",
              "            </div>\n",
              "        "
            ]
          },
          "metadata": {},
          "execution_count": 4
        }
      ]
    },
    {
      "cell_type": "code",
      "source": [
        "# load the csv into a dataframe\n",
        "df = spark.read.csv(\"/content/sample_data/carprice.csv\", header=True, inferSchema=True)\n",
        "df"
      ],
      "metadata": {
        "colab": {
          "base_uri": "https://localhost:8080/",
          "height": 948
        },
        "id": "LZ2ATPhc33UP",
        "outputId": "8976186e-bb9a-4391-ca5a-e5a85a539ca0"
      },
      "execution_count": 6,
      "outputs": [
        {
          "output_type": "execute_result",
          "data": {
            "text/plain": [
              "+---+--------------------+----------+----+-----------------+---------+------------+----------+------------+---------+---------+-----+-----+\n",
              "| ID|                Name|  Location|Year|Kilometers_Driven|Fuel_Type|Transmission|Owner_Type|Mileage_kmpl|Engine_CC|Power_bhp|Seats|Price|\n",
              "+---+--------------------+----------+----+-----------------+---------+------------+----------+------------+---------+---------+-----+-----+\n",
              "|  1|Hyundai Creta 1.6...|      Pune|2015|            41000|   Diesel|      Manual|     First|       19.67|   1582.0|    126.2|  5.0| 12.5|\n",
              "|  2|        Honda Jazz V|   Chennai|2011|            46000|   Petrol|      Manual|     First|        18.2|   1199.0|     88.7|  5.0|  4.5|\n",
              "|  3|   Maruti Ertiga VDI|   Chennai|2012|            87000|   Diesel|      Manual|     First|       20.77|   1248.0|    88.76|  7.0|  6.0|\n",
              "|  4|Audi A4 New 2.0 T...|Coimbatore|2013|            40670|   Diesel|   Automatic|    Second|        15.2|   1968.0|    140.8|  5.0|17.74|\n",
              "|  6|Nissan Micra Dies...|    Jaipur|2013|            86999|   Diesel|      Manual|     First|       23.08|   1461.0|     63.1|  5.0|  3.5|\n",
              "|  7|Toyota Innova Cry...|    Mumbai|2016|            36000|   Diesel|   Automatic|     First|       11.36|   2755.0|    171.5|  8.0| 17.5|\n",
              "|  8|Volkswagen Vento ...|      Pune|2013|            64430|   Diesel|      Manual|     First|       20.54|   1598.0|    103.6|  5.0|  5.2|\n",
              "|  9|Tata Indica Vista...|   Chennai|2012|            65932|   Diesel|      Manual|    Second|        22.3|   1248.0|     74.0|  5.0| 1.95|\n",
              "| 10|    Maruti Ciaz Zeta|     Kochi|2018|            25692|   Petrol|      Manual|     First|       21.56|   1462.0|   103.25|  5.0| 9.95|\n",
              "| 11|Honda City 1.5 V ...|   Kolkata|2012|            60000|   Petrol|   Automatic|     First|        16.8|   1497.0|    116.3|  5.0| 4.49|\n",
              "| 12|Maruti Swift VDI ...|    Jaipur|2015|            64424|   Diesel|      Manual|     First|        25.2|   1248.0|     74.0|  5.0|  5.6|\n",
              "| 13|Land Rover Range ...|     Delhi|2014|            72000|   Diesel|   Automatic|     First|        12.7|   2179.0|    187.7|  5.0| 27.0|\n",
              "| 14|Land Rover Freela...|      Pune|2012|            85000|   Diesel|   Automatic|    Second|         0.0|   2179.0|    115.0|  5.0| 17.5|\n",
              "| 15|Mitsubishi Pajero...|     Delhi|2014|           110000|   Diesel|      Manual|     First|        13.5|   2477.0|   175.56|  7.0| 15.0|\n",
              "| 16|Honda Amaze S i-D...|     Kochi|2016|            58950|   Diesel|      Manual|     First|        25.8|   1498.0|     98.6|  5.0|  5.4|\n",
              "| 17|Maruti Swift DDiS...|    Jaipur|2017|            25000|   Diesel|      Manual|     First|        28.4|   1248.0|     74.0|  5.0| 5.99|\n",
              "| 18|Renault Duster 85...|     Kochi|2014|            77469|   Diesel|      Manual|     First|       20.45|   1461.0|     83.8|  5.0| 6.34|\n",
              "| 19|Mercedes-Benz New...| Bangalore|2014|            78500|   Diesel|   Automatic|     First|       14.84|   2143.0|   167.62|  5.0| 28.0|\n",
              "| 20|   BMW 3 Series 320d|     Kochi|2014|            32982|   Diesel|   Automatic|     First|       22.69|   1995.0|    190.0|  5.0|18.55|\n",
              "| 21|Maruti S Cross DD...| Bangalore|2015|            55392|   Diesel|      Manual|    Second|       23.65|   1248.0|     88.5|  5.0| 8.25|\n",
              "+---+--------------------+----------+----+-----------------+---------+------------+----------+------------+---------+---------+-----+-----+\n",
              "only showing top 20 rows"
            ],
            "text/html": [
              "<table border='1'>\n",
              "<tr><th>ID</th><th>Name</th><th>Location</th><th>Year</th><th>Kilometers_Driven</th><th>Fuel_Type</th><th>Transmission</th><th>Owner_Type</th><th>Mileage_kmpl</th><th>Engine_CC</th><th>Power_bhp</th><th>Seats</th><th>Price</th></tr>\n",
              "<tr><td>1</td><td>Hyundai Creta 1.6...</td><td>Pune</td><td>2015</td><td>41000</td><td>Diesel</td><td>Manual</td><td>First</td><td>19.67</td><td>1582.0</td><td>126.2</td><td>5.0</td><td>12.5</td></tr>\n",
              "<tr><td>2</td><td>Honda Jazz V</td><td>Chennai</td><td>2011</td><td>46000</td><td>Petrol</td><td>Manual</td><td>First</td><td>18.2</td><td>1199.0</td><td>88.7</td><td>5.0</td><td>4.5</td></tr>\n",
              "<tr><td>3</td><td>Maruti Ertiga VDI</td><td>Chennai</td><td>2012</td><td>87000</td><td>Diesel</td><td>Manual</td><td>First</td><td>20.77</td><td>1248.0</td><td>88.76</td><td>7.0</td><td>6.0</td></tr>\n",
              "<tr><td>4</td><td>Audi A4 New 2.0 T...</td><td>Coimbatore</td><td>2013</td><td>40670</td><td>Diesel</td><td>Automatic</td><td>Second</td><td>15.2</td><td>1968.0</td><td>140.8</td><td>5.0</td><td>17.74</td></tr>\n",
              "<tr><td>6</td><td>Nissan Micra Dies...</td><td>Jaipur</td><td>2013</td><td>86999</td><td>Diesel</td><td>Manual</td><td>First</td><td>23.08</td><td>1461.0</td><td>63.1</td><td>5.0</td><td>3.5</td></tr>\n",
              "<tr><td>7</td><td>Toyota Innova Cry...</td><td>Mumbai</td><td>2016</td><td>36000</td><td>Diesel</td><td>Automatic</td><td>First</td><td>11.36</td><td>2755.0</td><td>171.5</td><td>8.0</td><td>17.5</td></tr>\n",
              "<tr><td>8</td><td>Volkswagen Vento ...</td><td>Pune</td><td>2013</td><td>64430</td><td>Diesel</td><td>Manual</td><td>First</td><td>20.54</td><td>1598.0</td><td>103.6</td><td>5.0</td><td>5.2</td></tr>\n",
              "<tr><td>9</td><td>Tata Indica Vista...</td><td>Chennai</td><td>2012</td><td>65932</td><td>Diesel</td><td>Manual</td><td>Second</td><td>22.3</td><td>1248.0</td><td>74.0</td><td>5.0</td><td>1.95</td></tr>\n",
              "<tr><td>10</td><td>Maruti Ciaz Zeta</td><td>Kochi</td><td>2018</td><td>25692</td><td>Petrol</td><td>Manual</td><td>First</td><td>21.56</td><td>1462.0</td><td>103.25</td><td>5.0</td><td>9.95</td></tr>\n",
              "<tr><td>11</td><td>Honda City 1.5 V ...</td><td>Kolkata</td><td>2012</td><td>60000</td><td>Petrol</td><td>Automatic</td><td>First</td><td>16.8</td><td>1497.0</td><td>116.3</td><td>5.0</td><td>4.49</td></tr>\n",
              "<tr><td>12</td><td>Maruti Swift VDI ...</td><td>Jaipur</td><td>2015</td><td>64424</td><td>Diesel</td><td>Manual</td><td>First</td><td>25.2</td><td>1248.0</td><td>74.0</td><td>5.0</td><td>5.6</td></tr>\n",
              "<tr><td>13</td><td>Land Rover Range ...</td><td>Delhi</td><td>2014</td><td>72000</td><td>Diesel</td><td>Automatic</td><td>First</td><td>12.7</td><td>2179.0</td><td>187.7</td><td>5.0</td><td>27.0</td></tr>\n",
              "<tr><td>14</td><td>Land Rover Freela...</td><td>Pune</td><td>2012</td><td>85000</td><td>Diesel</td><td>Automatic</td><td>Second</td><td>0.0</td><td>2179.0</td><td>115.0</td><td>5.0</td><td>17.5</td></tr>\n",
              "<tr><td>15</td><td>Mitsubishi Pajero...</td><td>Delhi</td><td>2014</td><td>110000</td><td>Diesel</td><td>Manual</td><td>First</td><td>13.5</td><td>2477.0</td><td>175.56</td><td>7.0</td><td>15.0</td></tr>\n",
              "<tr><td>16</td><td>Honda Amaze S i-D...</td><td>Kochi</td><td>2016</td><td>58950</td><td>Diesel</td><td>Manual</td><td>First</td><td>25.8</td><td>1498.0</td><td>98.6</td><td>5.0</td><td>5.4</td></tr>\n",
              "<tr><td>17</td><td>Maruti Swift DDiS...</td><td>Jaipur</td><td>2017</td><td>25000</td><td>Diesel</td><td>Manual</td><td>First</td><td>28.4</td><td>1248.0</td><td>74.0</td><td>5.0</td><td>5.99</td></tr>\n",
              "<tr><td>18</td><td>Renault Duster 85...</td><td>Kochi</td><td>2014</td><td>77469</td><td>Diesel</td><td>Manual</td><td>First</td><td>20.45</td><td>1461.0</td><td>83.8</td><td>5.0</td><td>6.34</td></tr>\n",
              "<tr><td>19</td><td>Mercedes-Benz New...</td><td>Bangalore</td><td>2014</td><td>78500</td><td>Diesel</td><td>Automatic</td><td>First</td><td>14.84</td><td>2143.0</td><td>167.62</td><td>5.0</td><td>28.0</td></tr>\n",
              "<tr><td>20</td><td>BMW 3 Series 320d</td><td>Kochi</td><td>2014</td><td>32982</td><td>Diesel</td><td>Automatic</td><td>First</td><td>22.69</td><td>1995.0</td><td>190.0</td><td>5.0</td><td>18.55</td></tr>\n",
              "<tr><td>21</td><td>Maruti S Cross DD...</td><td>Bangalore</td><td>2015</td><td>55392</td><td>Diesel</td><td>Manual</td><td>Second</td><td>23.65</td><td>1248.0</td><td>88.5</td><td>5.0</td><td>8.25</td></tr>\n",
              "</table>\n",
              "only showing top 20 rows\n"
            ]
          },
          "metadata": {},
          "execution_count": 6
        }
      ]
    },
    {
      "cell_type": "code",
      "source": [
        "# information about dataset\n",
        "df.printSchema()"
      ],
      "metadata": {
        "colab": {
          "base_uri": "https://localhost:8080/"
        },
        "id": "Ya4VdKbC8Ry2",
        "outputId": "0f9d94bd-70a5-4eb6-b3d4-a483463996ed"
      },
      "execution_count": 7,
      "outputs": [
        {
          "output_type": "stream",
          "name": "stdout",
          "text": [
            "root\n",
            " |-- ID: integer (nullable = true)\n",
            " |-- Name: string (nullable = true)\n",
            " |-- Location: string (nullable = true)\n",
            " |-- Year: integer (nullable = true)\n",
            " |-- Kilometers_Driven: integer (nullable = true)\n",
            " |-- Fuel_Type: string (nullable = true)\n",
            " |-- Transmission: string (nullable = true)\n",
            " |-- Owner_Type: string (nullable = true)\n",
            " |-- Mileage_kmpl: double (nullable = true)\n",
            " |-- Engine_CC: double (nullable = true)\n",
            " |-- Power_bhp: double (nullable = true)\n",
            " |-- Seats: double (nullable = true)\n",
            " |-- Price: double (nullable = true)\n",
            "\n"
          ]
        }
      ]
    },
    {
      "cell_type": "code",
      "source": [
        "# limit result row\n",
        "df.limit(5)"
      ],
      "metadata": {
        "colab": {
          "base_uri": "https://localhost:8080/",
          "height": 337
        },
        "id": "VkMa_YNO943J",
        "outputId": "091365a9-f198-4e89-9b17-fed8ea9d9413"
      },
      "execution_count": 8,
      "outputs": [
        {
          "output_type": "execute_result",
          "data": {
            "text/plain": [
              "+---+--------------------+----------+----+-----------------+---------+------------+----------+------------+---------+---------+-----+-----+\n",
              "| ID|                Name|  Location|Year|Kilometers_Driven|Fuel_Type|Transmission|Owner_Type|Mileage_kmpl|Engine_CC|Power_bhp|Seats|Price|\n",
              "+---+--------------------+----------+----+-----------------+---------+------------+----------+------------+---------+---------+-----+-----+\n",
              "|  1|Hyundai Creta 1.6...|      Pune|2015|            41000|   Diesel|      Manual|     First|       19.67|   1582.0|    126.2|  5.0| 12.5|\n",
              "|  2|        Honda Jazz V|   Chennai|2011|            46000|   Petrol|      Manual|     First|        18.2|   1199.0|     88.7|  5.0|  4.5|\n",
              "|  3|   Maruti Ertiga VDI|   Chennai|2012|            87000|   Diesel|      Manual|     First|       20.77|   1248.0|    88.76|  7.0|  6.0|\n",
              "|  4|Audi A4 New 2.0 T...|Coimbatore|2013|            40670|   Diesel|   Automatic|    Second|        15.2|   1968.0|    140.8|  5.0|17.74|\n",
              "|  6|Nissan Micra Dies...|    Jaipur|2013|            86999|   Diesel|      Manual|     First|       23.08|   1461.0|     63.1|  5.0|  3.5|\n",
              "+---+--------------------+----------+----+-----------------+---------+------------+----------+------------+---------+---------+-----+-----+"
            ],
            "text/html": [
              "<table border='1'>\n",
              "<tr><th>ID</th><th>Name</th><th>Location</th><th>Year</th><th>Kilometers_Driven</th><th>Fuel_Type</th><th>Transmission</th><th>Owner_Type</th><th>Mileage_kmpl</th><th>Engine_CC</th><th>Power_bhp</th><th>Seats</th><th>Price</th></tr>\n",
              "<tr><td>1</td><td>Hyundai Creta 1.6...</td><td>Pune</td><td>2015</td><td>41000</td><td>Diesel</td><td>Manual</td><td>First</td><td>19.67</td><td>1582.0</td><td>126.2</td><td>5.0</td><td>12.5</td></tr>\n",
              "<tr><td>2</td><td>Honda Jazz V</td><td>Chennai</td><td>2011</td><td>46000</td><td>Petrol</td><td>Manual</td><td>First</td><td>18.2</td><td>1199.0</td><td>88.7</td><td>5.0</td><td>4.5</td></tr>\n",
              "<tr><td>3</td><td>Maruti Ertiga VDI</td><td>Chennai</td><td>2012</td><td>87000</td><td>Diesel</td><td>Manual</td><td>First</td><td>20.77</td><td>1248.0</td><td>88.76</td><td>7.0</td><td>6.0</td></tr>\n",
              "<tr><td>4</td><td>Audi A4 New 2.0 T...</td><td>Coimbatore</td><td>2013</td><td>40670</td><td>Diesel</td><td>Automatic</td><td>Second</td><td>15.2</td><td>1968.0</td><td>140.8</td><td>5.0</td><td>17.74</td></tr>\n",
              "<tr><td>6</td><td>Nissan Micra Dies...</td><td>Jaipur</td><td>2013</td><td>86999</td><td>Diesel</td><td>Manual</td><td>First</td><td>23.08</td><td>1461.0</td><td>63.1</td><td>5.0</td><td>3.5</td></tr>\n",
              "</table>\n"
            ]
          },
          "metadata": {},
          "execution_count": 8
        }
      ]
    },
    {
      "cell_type": "code",
      "source": [
        "# select specific columns\n",
        "df.select(\n",
        "    'ID',\n",
        "    'Name',\n",
        "    'Location'\n",
        ").limit(5)"
      ],
      "metadata": {
        "colab": {
          "base_uri": "https://localhost:8080/",
          "height": 161
        },
        "id": "KKsAHP4r-bOh",
        "outputId": "aa48f46c-7827-426b-9d35-c52638ce68ea"
      },
      "execution_count": 9,
      "outputs": [
        {
          "output_type": "execute_result",
          "data": {
            "text/plain": [
              "+---+--------------------+----------+\n",
              "| ID|                Name|  Location|\n",
              "+---+--------------------+----------+\n",
              "|  1|Hyundai Creta 1.6...|      Pune|\n",
              "|  2|        Honda Jazz V|   Chennai|\n",
              "|  3|   Maruti Ertiga VDI|   Chennai|\n",
              "|  4|Audi A4 New 2.0 T...|Coimbatore|\n",
              "|  6|Nissan Micra Dies...|    Jaipur|\n",
              "+---+--------------------+----------+"
            ],
            "text/html": [
              "<table border='1'>\n",
              "<tr><th>ID</th><th>Name</th><th>Location</th></tr>\n",
              "<tr><td>1</td><td>Hyundai Creta 1.6...</td><td>Pune</td></tr>\n",
              "<tr><td>2</td><td>Honda Jazz V</td><td>Chennai</td></tr>\n",
              "<tr><td>3</td><td>Maruti Ertiga VDI</td><td>Chennai</td></tr>\n",
              "<tr><td>4</td><td>Audi A4 New 2.0 T...</td><td>Coimbatore</td></tr>\n",
              "<tr><td>6</td><td>Nissan Micra Dies...</td><td>Jaipur</td></tr>\n",
              "</table>\n"
            ]
          },
          "metadata": {},
          "execution_count": 9
        }
      ]
    },
    {
      "cell_type": "code",
      "source": [
        "# filter value in column using where\n",
        "df.where((df.Year == 2014) & (df.Transmission == \"Automatic\")).limit(5)"
      ],
      "metadata": {
        "colab": {
          "base_uri": "https://localhost:8080/",
          "height": 355
        },
        "id": "LI7uq0ZB_Tj8",
        "outputId": "9eac44c3-0521-496b-dfe9-bfd55d415ccf"
      },
      "execution_count": 10,
      "outputs": [
        {
          "output_type": "execute_result",
          "data": {
            "text/plain": [
              "+---+--------------------+---------+----+-----------------+---------+------------+----------+------------+---------+---------+-----+-----+\n",
              "| ID|                Name| Location|Year|Kilometers_Driven|Fuel_Type|Transmission|Owner_Type|Mileage_kmpl|Engine_CC|Power_bhp|Seats|Price|\n",
              "+---+--------------------+---------+----+-----------------+---------+------------+----------+------------+---------+---------+-----+-----+\n",
              "| 13|Land Rover Range ...|    Delhi|2014|            72000|   Diesel|   Automatic|     First|        12.7|   2179.0|    187.7|  5.0| 27.0|\n",
              "| 19|Mercedes-Benz New...|Bangalore|2014|            78500|   Diesel|   Automatic|     First|       14.84|   2143.0|   167.62|  5.0| 28.0|\n",
              "| 20|   BMW 3 Series 320d|    Kochi|2014|            32982|   Diesel|   Automatic|     First|       22.69|   1995.0|    190.0|  5.0|18.55|\n",
              "| 44|Hyundai Elantra 2...|Bangalore|2014|            46374|   Petrol|   Automatic|     First|       14.62|   1999.0|   149.92|  5.0| 8.85|\n",
              "| 75|Audi A6 2.0 TDI D...|    Delhi|2014|            56000|   Diesel|   Automatic|    Second|       18.53|   1968.0|   187.74|  5.0| 29.5|\n",
              "+---+--------------------+---------+----+-----------------+---------+------------+----------+------------+---------+---------+-----+-----+"
            ],
            "text/html": [
              "<table border='1'>\n",
              "<tr><th>ID</th><th>Name</th><th>Location</th><th>Year</th><th>Kilometers_Driven</th><th>Fuel_Type</th><th>Transmission</th><th>Owner_Type</th><th>Mileage_kmpl</th><th>Engine_CC</th><th>Power_bhp</th><th>Seats</th><th>Price</th></tr>\n",
              "<tr><td>13</td><td>Land Rover Range ...</td><td>Delhi</td><td>2014</td><td>72000</td><td>Diesel</td><td>Automatic</td><td>First</td><td>12.7</td><td>2179.0</td><td>187.7</td><td>5.0</td><td>27.0</td></tr>\n",
              "<tr><td>19</td><td>Mercedes-Benz New...</td><td>Bangalore</td><td>2014</td><td>78500</td><td>Diesel</td><td>Automatic</td><td>First</td><td>14.84</td><td>2143.0</td><td>167.62</td><td>5.0</td><td>28.0</td></tr>\n",
              "<tr><td>20</td><td>BMW 3 Series 320d</td><td>Kochi</td><td>2014</td><td>32982</td><td>Diesel</td><td>Automatic</td><td>First</td><td>22.69</td><td>1995.0</td><td>190.0</td><td>5.0</td><td>18.55</td></tr>\n",
              "<tr><td>44</td><td>Hyundai Elantra 2...</td><td>Bangalore</td><td>2014</td><td>46374</td><td>Petrol</td><td>Automatic</td><td>First</td><td>14.62</td><td>1999.0</td><td>149.92</td><td>5.0</td><td>8.85</td></tr>\n",
              "<tr><td>75</td><td>Audi A6 2.0 TDI D...</td><td>Delhi</td><td>2014</td><td>56000</td><td>Diesel</td><td>Automatic</td><td>Second</td><td>18.53</td><td>1968.0</td><td>187.74</td><td>5.0</td><td>29.5</td></tr>\n",
              "</table>\n"
            ]
          },
          "metadata": {},
          "execution_count": 10
        }
      ]
    },
    {
      "cell_type": "code",
      "source": [
        "# get unique values in column\n",
        "import pyspark.sql.functions as f\n",
        "my_list = df.select(\"Year\").distinct().show()\n",
        "my_list"
      ],
      "metadata": {
        "colab": {
          "base_uri": "https://localhost:8080/"
        },
        "id": "bKJ1K9n1_o6e",
        "outputId": "385f270e-520d-4c29-964b-4f93e9cdcffb"
      },
      "execution_count": 16,
      "outputs": [
        {
          "output_type": "stream",
          "name": "stdout",
          "text": [
            "+----+\n",
            "|Year|\n",
            "+----+\n",
            "|2003|\n",
            "|2007|\n",
            "|2018|\n",
            "|2015|\n",
            "|2006|\n",
            "|2013|\n",
            "|2014|\n",
            "|2019|\n",
            "|2004|\n",
            "|1998|\n",
            "|2012|\n",
            "|2009|\n",
            "|2016|\n",
            "|2001|\n",
            "|2005|\n",
            "|2000|\n",
            "|2010|\n",
            "|2011|\n",
            "|2008|\n",
            "|2017|\n",
            "+----+\n",
            "only showing top 20 rows\n",
            "\n"
          ]
        }
      ]
    },
    {
      "cell_type": "code",
      "source": [
        "# aggregate column\n",
        "df.agg({'Engine_CC':'avg'})"
      ],
      "metadata": {
        "colab": {
          "base_uri": "https://localhost:8080/",
          "height": 68
        },
        "id": "6p5PPBclAH_E",
        "outputId": "e796d3fc-6296-4f8a-e92c-06f20303f343"
      },
      "execution_count": 12,
      "outputs": [
        {
          "output_type": "execute_result",
          "data": {
            "text/plain": [
              "+------------------+\n",
              "|    avg(Engine_CC)|\n",
              "+------------------+\n",
              "|1627.2982930539124|\n",
              "+------------------+"
            ],
            "text/html": [
              "<table border='1'>\n",
              "<tr><th>avg(Engine_CC)</th></tr>\n",
              "<tr><td>1627.2982930539124</td></tr>\n",
              "</table>\n"
            ]
          },
          "metadata": {},
          "execution_count": 12
        }
      ]
    },
    {
      "cell_type": "code",
      "source": [
        "# groupby column and then agg\n",
        "df.groupby('Fuel_Type').agg({'Engine_CC':'avg'})"
      ],
      "metadata": {
        "id": "TOFFTYXPEHYC",
        "colab": {
          "base_uri": "https://localhost:8080/",
          "height": 114
        },
        "outputId": "f8573c73-4e35-4e1f-d36c-01aaa73a4425"
      },
      "execution_count": 13,
      "outputs": [
        {
          "output_type": "execute_result",
          "data": {
            "text/plain": [
              "+---------+------------------+\n",
              "|Fuel_Type|    avg(Engine_CC)|\n",
              "+---------+------------------+\n",
              "|   Diesel|1861.6008758210824|\n",
              "| Electric|             935.0|\n",
              "|   Petrol|1352.2133922001472|\n",
              "+---------+------------------+"
            ],
            "text/html": [
              "<table border='1'>\n",
              "<tr><th>Fuel_Type</th><th>avg(Engine_CC)</th></tr>\n",
              "<tr><td>Diesel</td><td>1861.6008758210824</td></tr>\n",
              "<tr><td>Electric</td><td>935.0</td></tr>\n",
              "<tr><td>Petrol</td><td>1352.2133922001472</td></tr>\n",
              "</table>\n"
            ]
          },
          "metadata": {},
          "execution_count": 13
        }
      ]
    },
    {
      "cell_type": "code",
      "source": [
        "# groupby based on column\n",
        "df.groupby('Seats').agg({'Engine_CC':'avg'}).orderBy('Seats', ascending=False)"
      ],
      "metadata": {
        "colab": {
          "base_uri": "https://localhost:8080/",
          "height": 278
        },
        "id": "B3p6yvWjC4RF",
        "outputId": "9b893b18-6bf3-491a-a08d-8324b0c7a81c"
      },
      "execution_count": 19,
      "outputs": [
        {
          "output_type": "execute_result",
          "data": {
            "text/plain": [
              "+-----+------------------+\n",
              "|Seats|    avg(Engine_CC)|\n",
              "+-----+------------------+\n",
              "| 10.0|            2363.0|\n",
              "|  9.0|            2389.0|\n",
              "|  8.0|2223.4850746268658|\n",
              "|  7.0|2347.8746268656714|\n",
              "|  6.0|2146.9032258064517|\n",
              "|  5.0|1498.3765631302945|\n",
              "|  4.0|1897.5591397849462|\n",
              "|  2.0|         3401.0625|\n",
              "|  0.0|            3197.0|\n",
              "| null|1521.1666666666667|\n",
              "+-----+------------------+"
            ],
            "text/html": [
              "<table border='1'>\n",
              "<tr><th>Seats</th><th>avg(Engine_CC)</th></tr>\n",
              "<tr><td>10.0</td><td>2363.0</td></tr>\n",
              "<tr><td>9.0</td><td>2389.0</td></tr>\n",
              "<tr><td>8.0</td><td>2223.4850746268658</td></tr>\n",
              "<tr><td>7.0</td><td>2347.8746268656714</td></tr>\n",
              "<tr><td>6.0</td><td>2146.9032258064517</td></tr>\n",
              "<tr><td>5.0</td><td>1498.3765631302945</td></tr>\n",
              "<tr><td>4.0</td><td>1897.5591397849462</td></tr>\n",
              "<tr><td>2.0</td><td>3401.0625</td></tr>\n",
              "<tr><td>0.0</td><td>3197.0</td></tr>\n",
              "<tr><td>null</td><td>1521.1666666666667</td></tr>\n",
              "</table>\n"
            ]
          },
          "metadata": {},
          "execution_count": 19
        }
      ]
    },
    {
      "cell_type": "code",
      "source": [
        "# filter value in column\n",
        "df.filter(df.Year > 2014).agg({'Power_bhp':'avg'})"
      ],
      "metadata": {
        "colab": {
          "base_uri": "https://localhost:8080/",
          "height": 68
        },
        "id": "jK1WmKT-DTYN",
        "outputId": "83a5b7c2-959b-4f4d-9297-24ff53fd2b54"
      },
      "execution_count": 20,
      "outputs": [
        {
          "output_type": "execute_result",
          "data": {
            "text/plain": [
              "+------------------+\n",
              "|    avg(Power_bhp)|\n",
              "+------------------+\n",
              "|112.75192465192437|\n",
              "+------------------+"
            ],
            "text/html": [
              "<table border='1'>\n",
              "<tr><th>avg(Power_bhp)</th></tr>\n",
              "<tr><td>112.75192465192437</td></tr>\n",
              "</table>\n"
            ]
          },
          "metadata": {},
          "execution_count": 20
        }
      ]
    },
    {
      "cell_type": "code",
      "source": [
        "df.select('Power_bhp', 'Engine_CC').printSchema()"
      ],
      "metadata": {
        "colab": {
          "base_uri": "https://localhost:8080/"
        },
        "id": "0hfDtcm7KS5N",
        "outputId": "3b797bc9-a4b8-4452-8351-4f1e9376c55a"
      },
      "execution_count": 37,
      "outputs": [
        {
          "output_type": "stream",
          "name": "stdout",
          "text": [
            "root\n",
            " |-- Power_bhp: double (nullable = true)\n",
            " |-- Engine_CC: double (nullable = true)\n",
            "\n"
          ]
        }
      ]
    },
    {
      "cell_type": "code",
      "source": [
        "# rounded value \n",
        "from pyspark.sql.functions import round\n",
        "\n",
        "df.select('ID','Power_bhp', round('Power_bhp').alias('Power_bhp Rounded down')).limit(5)"
      ],
      "metadata": {
        "colab": {
          "base_uri": "https://localhost:8080/",
          "height": 161
        },
        "id": "87Y3il5AEWiE",
        "outputId": "276d8443-0dd5-4e1b-bfa9-a713e2a4e4ae"
      },
      "execution_count": 47,
      "outputs": [
        {
          "output_type": "execute_result",
          "data": {
            "text/plain": [
              "+---+---------+----------------------+\n",
              "| ID|Power_bhp|Power_bhp Rounded down|\n",
              "+---+---------+----------------------+\n",
              "|  1|    126.2|                 126.0|\n",
              "|  2|     88.7|                  89.0|\n",
              "|  3|    88.76|                  89.0|\n",
              "|  4|    140.8|                 141.0|\n",
              "|  6|     63.1|                  63.0|\n",
              "+---+---------+----------------------+"
            ],
            "text/html": [
              "<table border='1'>\n",
              "<tr><th>ID</th><th>Power_bhp</th><th>Power_bhp Rounded down</th></tr>\n",
              "<tr><td>1</td><td>126.2</td><td>126.0</td></tr>\n",
              "<tr><td>2</td><td>88.7</td><td>89.0</td></tr>\n",
              "<tr><td>3</td><td>88.76</td><td>89.0</td></tr>\n",
              "<tr><td>4</td><td>140.8</td><td>141.0</td></tr>\n",
              "<tr><td>6</td><td>63.1</td><td>63.0</td></tr>\n",
              "</table>\n"
            ]
          },
          "metadata": {},
          "execution_count": 47
        }
      ]
    },
    {
      "cell_type": "code",
      "source": [
        "# build temporary view\n",
        "df.createOrReplaceTempView(\"carprice\")"
      ],
      "metadata": {
        "id": "iLy-H7v3IFbJ"
      },
      "execution_count": 48,
      "outputs": []
    },
    {
      "cell_type": "code",
      "source": [
        "spark.sql('select * from carprice')"
      ],
      "metadata": {
        "colab": {
          "base_uri": "https://localhost:8080/",
          "height": 948
        },
        "id": "rkNiBKH9NCgV",
        "outputId": "55e0181a-1b9b-4e78-9b87-89c5b728ef12"
      },
      "execution_count": 49,
      "outputs": [
        {
          "output_type": "execute_result",
          "data": {
            "text/plain": [
              "+---+--------------------+----------+----+-----------------+---------+------------+----------+------------+---------+---------+-----+-----+\n",
              "| ID|                Name|  Location|Year|Kilometers_Driven|Fuel_Type|Transmission|Owner_Type|Mileage_kmpl|Engine_CC|Power_bhp|Seats|Price|\n",
              "+---+--------------------+----------+----+-----------------+---------+------------+----------+------------+---------+---------+-----+-----+\n",
              "|  1|Hyundai Creta 1.6...|      Pune|2015|            41000|   Diesel|      Manual|     First|       19.67|   1582.0|    126.2|  5.0| 12.5|\n",
              "|  2|        Honda Jazz V|   Chennai|2011|            46000|   Petrol|      Manual|     First|        18.2|   1199.0|     88.7|  5.0|  4.5|\n",
              "|  3|   Maruti Ertiga VDI|   Chennai|2012|            87000|   Diesel|      Manual|     First|       20.77|   1248.0|    88.76|  7.0|  6.0|\n",
              "|  4|Audi A4 New 2.0 T...|Coimbatore|2013|            40670|   Diesel|   Automatic|    Second|        15.2|   1968.0|    140.8|  5.0|17.74|\n",
              "|  6|Nissan Micra Dies...|    Jaipur|2013|            86999|   Diesel|      Manual|     First|       23.08|   1461.0|     63.1|  5.0|  3.5|\n",
              "|  7|Toyota Innova Cry...|    Mumbai|2016|            36000|   Diesel|   Automatic|     First|       11.36|   2755.0|    171.5|  8.0| 17.5|\n",
              "|  8|Volkswagen Vento ...|      Pune|2013|            64430|   Diesel|      Manual|     First|       20.54|   1598.0|    103.6|  5.0|  5.2|\n",
              "|  9|Tata Indica Vista...|   Chennai|2012|            65932|   Diesel|      Manual|    Second|        22.3|   1248.0|     74.0|  5.0| 1.95|\n",
              "| 10|    Maruti Ciaz Zeta|     Kochi|2018|            25692|   Petrol|      Manual|     First|       21.56|   1462.0|   103.25|  5.0| 9.95|\n",
              "| 11|Honda City 1.5 V ...|   Kolkata|2012|            60000|   Petrol|   Automatic|     First|        16.8|   1497.0|    116.3|  5.0| 4.49|\n",
              "| 12|Maruti Swift VDI ...|    Jaipur|2015|            64424|   Diesel|      Manual|     First|        25.2|   1248.0|     74.0|  5.0|  5.6|\n",
              "| 13|Land Rover Range ...|     Delhi|2014|            72000|   Diesel|   Automatic|     First|        12.7|   2179.0|    187.7|  5.0| 27.0|\n",
              "| 14|Land Rover Freela...|      Pune|2012|            85000|   Diesel|   Automatic|    Second|         0.0|   2179.0|    115.0|  5.0| 17.5|\n",
              "| 15|Mitsubishi Pajero...|     Delhi|2014|           110000|   Diesel|      Manual|     First|        13.5|   2477.0|   175.56|  7.0| 15.0|\n",
              "| 16|Honda Amaze S i-D...|     Kochi|2016|            58950|   Diesel|      Manual|     First|        25.8|   1498.0|     98.6|  5.0|  5.4|\n",
              "| 17|Maruti Swift DDiS...|    Jaipur|2017|            25000|   Diesel|      Manual|     First|        28.4|   1248.0|     74.0|  5.0| 5.99|\n",
              "| 18|Renault Duster 85...|     Kochi|2014|            77469|   Diesel|      Manual|     First|       20.45|   1461.0|     83.8|  5.0| 6.34|\n",
              "| 19|Mercedes-Benz New...| Bangalore|2014|            78500|   Diesel|   Automatic|     First|       14.84|   2143.0|   167.62|  5.0| 28.0|\n",
              "| 20|   BMW 3 Series 320d|     Kochi|2014|            32982|   Diesel|   Automatic|     First|       22.69|   1995.0|    190.0|  5.0|18.55|\n",
              "| 21|Maruti S Cross DD...| Bangalore|2015|            55392|   Diesel|      Manual|    Second|       23.65|   1248.0|     88.5|  5.0| 8.25|\n",
              "+---+--------------------+----------+----+-----------------+---------+------------+----------+------------+---------+---------+-----+-----+\n",
              "only showing top 20 rows"
            ],
            "text/html": [
              "<table border='1'>\n",
              "<tr><th>ID</th><th>Name</th><th>Location</th><th>Year</th><th>Kilometers_Driven</th><th>Fuel_Type</th><th>Transmission</th><th>Owner_Type</th><th>Mileage_kmpl</th><th>Engine_CC</th><th>Power_bhp</th><th>Seats</th><th>Price</th></tr>\n",
              "<tr><td>1</td><td>Hyundai Creta 1.6...</td><td>Pune</td><td>2015</td><td>41000</td><td>Diesel</td><td>Manual</td><td>First</td><td>19.67</td><td>1582.0</td><td>126.2</td><td>5.0</td><td>12.5</td></tr>\n",
              "<tr><td>2</td><td>Honda Jazz V</td><td>Chennai</td><td>2011</td><td>46000</td><td>Petrol</td><td>Manual</td><td>First</td><td>18.2</td><td>1199.0</td><td>88.7</td><td>5.0</td><td>4.5</td></tr>\n",
              "<tr><td>3</td><td>Maruti Ertiga VDI</td><td>Chennai</td><td>2012</td><td>87000</td><td>Diesel</td><td>Manual</td><td>First</td><td>20.77</td><td>1248.0</td><td>88.76</td><td>7.0</td><td>6.0</td></tr>\n",
              "<tr><td>4</td><td>Audi A4 New 2.0 T...</td><td>Coimbatore</td><td>2013</td><td>40670</td><td>Diesel</td><td>Automatic</td><td>Second</td><td>15.2</td><td>1968.0</td><td>140.8</td><td>5.0</td><td>17.74</td></tr>\n",
              "<tr><td>6</td><td>Nissan Micra Dies...</td><td>Jaipur</td><td>2013</td><td>86999</td><td>Diesel</td><td>Manual</td><td>First</td><td>23.08</td><td>1461.0</td><td>63.1</td><td>5.0</td><td>3.5</td></tr>\n",
              "<tr><td>7</td><td>Toyota Innova Cry...</td><td>Mumbai</td><td>2016</td><td>36000</td><td>Diesel</td><td>Automatic</td><td>First</td><td>11.36</td><td>2755.0</td><td>171.5</td><td>8.0</td><td>17.5</td></tr>\n",
              "<tr><td>8</td><td>Volkswagen Vento ...</td><td>Pune</td><td>2013</td><td>64430</td><td>Diesel</td><td>Manual</td><td>First</td><td>20.54</td><td>1598.0</td><td>103.6</td><td>5.0</td><td>5.2</td></tr>\n",
              "<tr><td>9</td><td>Tata Indica Vista...</td><td>Chennai</td><td>2012</td><td>65932</td><td>Diesel</td><td>Manual</td><td>Second</td><td>22.3</td><td>1248.0</td><td>74.0</td><td>5.0</td><td>1.95</td></tr>\n",
              "<tr><td>10</td><td>Maruti Ciaz Zeta</td><td>Kochi</td><td>2018</td><td>25692</td><td>Petrol</td><td>Manual</td><td>First</td><td>21.56</td><td>1462.0</td><td>103.25</td><td>5.0</td><td>9.95</td></tr>\n",
              "<tr><td>11</td><td>Honda City 1.5 V ...</td><td>Kolkata</td><td>2012</td><td>60000</td><td>Petrol</td><td>Automatic</td><td>First</td><td>16.8</td><td>1497.0</td><td>116.3</td><td>5.0</td><td>4.49</td></tr>\n",
              "<tr><td>12</td><td>Maruti Swift VDI ...</td><td>Jaipur</td><td>2015</td><td>64424</td><td>Diesel</td><td>Manual</td><td>First</td><td>25.2</td><td>1248.0</td><td>74.0</td><td>5.0</td><td>5.6</td></tr>\n",
              "<tr><td>13</td><td>Land Rover Range ...</td><td>Delhi</td><td>2014</td><td>72000</td><td>Diesel</td><td>Automatic</td><td>First</td><td>12.7</td><td>2179.0</td><td>187.7</td><td>5.0</td><td>27.0</td></tr>\n",
              "<tr><td>14</td><td>Land Rover Freela...</td><td>Pune</td><td>2012</td><td>85000</td><td>Diesel</td><td>Automatic</td><td>Second</td><td>0.0</td><td>2179.0</td><td>115.0</td><td>5.0</td><td>17.5</td></tr>\n",
              "<tr><td>15</td><td>Mitsubishi Pajero...</td><td>Delhi</td><td>2014</td><td>110000</td><td>Diesel</td><td>Manual</td><td>First</td><td>13.5</td><td>2477.0</td><td>175.56</td><td>7.0</td><td>15.0</td></tr>\n",
              "<tr><td>16</td><td>Honda Amaze S i-D...</td><td>Kochi</td><td>2016</td><td>58950</td><td>Diesel</td><td>Manual</td><td>First</td><td>25.8</td><td>1498.0</td><td>98.6</td><td>5.0</td><td>5.4</td></tr>\n",
              "<tr><td>17</td><td>Maruti Swift DDiS...</td><td>Jaipur</td><td>2017</td><td>25000</td><td>Diesel</td><td>Manual</td><td>First</td><td>28.4</td><td>1248.0</td><td>74.0</td><td>5.0</td><td>5.99</td></tr>\n",
              "<tr><td>18</td><td>Renault Duster 85...</td><td>Kochi</td><td>2014</td><td>77469</td><td>Diesel</td><td>Manual</td><td>First</td><td>20.45</td><td>1461.0</td><td>83.8</td><td>5.0</td><td>6.34</td></tr>\n",
              "<tr><td>19</td><td>Mercedes-Benz New...</td><td>Bangalore</td><td>2014</td><td>78500</td><td>Diesel</td><td>Automatic</td><td>First</td><td>14.84</td><td>2143.0</td><td>167.62</td><td>5.0</td><td>28.0</td></tr>\n",
              "<tr><td>20</td><td>BMW 3 Series 320d</td><td>Kochi</td><td>2014</td><td>32982</td><td>Diesel</td><td>Automatic</td><td>First</td><td>22.69</td><td>1995.0</td><td>190.0</td><td>5.0</td><td>18.55</td></tr>\n",
              "<tr><td>21</td><td>Maruti S Cross DD...</td><td>Bangalore</td><td>2015</td><td>55392</td><td>Diesel</td><td>Manual</td><td>Second</td><td>23.65</td><td>1248.0</td><td>88.5</td><td>5.0</td><td>8.25</td></tr>\n",
              "</table>\n",
              "only showing top 20 rows\n"
            ]
          },
          "metadata": {},
          "execution_count": 49
        }
      ]
    }
  ]
}